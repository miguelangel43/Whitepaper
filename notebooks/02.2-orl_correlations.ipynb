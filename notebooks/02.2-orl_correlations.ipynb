{
 "cells": [
  {
   "cell_type": "code",
   "execution_count": 2,
   "metadata": {},
   "outputs": [],
   "source": [
    "import pickle\n",
    "import os\n",
    "import sys\n",
    "\n",
    "sys.path.append('../utils')\n",
    "sys.path.append('../visualization')\n",
    "\n",
    "from utils import get_corr_table, get_weights"
   ]
  },
  {
   "cell_type": "code",
   "execution_count": 3,
   "metadata": {},
   "outputs": [],
   "source": [
    "dataset_name = 'orl'\n",
    "reduced_X_best = pickle.load(open(os.path.dirname(os.getcwd()) + f'/data/{dataset_name}/reduced/reduced_X_best.pkl', 'rb'))\n",
    "X_train = pickle.load(open(os.path.dirname(os.getcwd()) + '/data/orl/processed/X_train.pkl', 'rb'))"
   ]
  },
  {
   "cell_type": "code",
   "execution_count": 4,
   "metadata": {},
   "outputs": [
    {
     "name": "stderr",
     "output_type": "stream",
     "text": [
      "100%|██████████| 5/5 [00:00<00:00, 40.49it/s]\n"
     ]
    }
   ],
   "source": [
    "weights = get_weights(reduced_X_best, n_components=150)\n",
    "\n",
    "df_corrs, df_corrs_avg = get_corr_table(reduced_X_best, X_train, abs=False, weighted=True, weights=weights)"
   ]
  },
  {
   "cell_type": "code",
   "execution_count": 5,
   "metadata": {},
   "outputs": [
    {
     "data": {
      "text/html": [
       "<div>\n",
       "<style scoped>\n",
       "    .dataframe tbody tr th:only-of-type {\n",
       "        vertical-align: middle;\n",
       "    }\n",
       "\n",
       "    .dataframe tbody tr th {\n",
       "        vertical-align: top;\n",
       "    }\n",
       "\n",
       "    .dataframe thead th {\n",
       "        text-align: right;\n",
       "    }\n",
       "</style>\n",
       "<table border=\"1\" class=\"dataframe\">\n",
       "  <thead>\n",
       "    <tr style=\"text-align: right;\">\n",
       "      <th></th>\n",
       "      <th>KPCA</th>\n",
       "      <th>LLE</th>\n",
       "      <th>LOL</th>\n",
       "      <th>PCA</th>\n",
       "      <th>SLMVP</th>\n",
       "    </tr>\n",
       "  </thead>\n",
       "  <tbody>\n",
       "    <tr>\n",
       "      <th>0</th>\n",
       "      <td>0.000336</td>\n",
       "      <td>0.000246</td>\n",
       "      <td>0.002069</td>\n",
       "      <td>0.004525</td>\n",
       "      <td>0.000300</td>\n",
       "    </tr>\n",
       "    <tr>\n",
       "      <th>1</th>\n",
       "      <td>0.000333</td>\n",
       "      <td>0.000249</td>\n",
       "      <td>0.002066</td>\n",
       "      <td>0.004509</td>\n",
       "      <td>0.000303</td>\n",
       "    </tr>\n",
       "    <tr>\n",
       "      <th>2</th>\n",
       "      <td>0.000334</td>\n",
       "      <td>0.000249</td>\n",
       "      <td>0.002095</td>\n",
       "      <td>0.004535</td>\n",
       "      <td>0.000304</td>\n",
       "    </tr>\n",
       "    <tr>\n",
       "      <th>3</th>\n",
       "      <td>0.000331</td>\n",
       "      <td>0.000250</td>\n",
       "      <td>0.002096</td>\n",
       "      <td>0.004545</td>\n",
       "      <td>0.000302</td>\n",
       "    </tr>\n",
       "    <tr>\n",
       "      <th>4</th>\n",
       "      <td>0.000332</td>\n",
       "      <td>0.000249</td>\n",
       "      <td>0.002079</td>\n",
       "      <td>0.004555</td>\n",
       "      <td>0.000305</td>\n",
       "    </tr>\n",
       "    <tr>\n",
       "      <th>...</th>\n",
       "      <td>...</td>\n",
       "      <td>...</td>\n",
       "      <td>...</td>\n",
       "      <td>...</td>\n",
       "      <td>...</td>\n",
       "    </tr>\n",
       "    <tr>\n",
       "      <th>10299</th>\n",
       "      <td>0.000345</td>\n",
       "      <td>0.000369</td>\n",
       "      <td>0.001052</td>\n",
       "      <td>0.003815</td>\n",
       "      <td>0.000367</td>\n",
       "    </tr>\n",
       "    <tr>\n",
       "      <th>10300</th>\n",
       "      <td>0.000337</td>\n",
       "      <td>0.000374</td>\n",
       "      <td>0.001029</td>\n",
       "      <td>0.003868</td>\n",
       "      <td>0.000376</td>\n",
       "    </tr>\n",
       "    <tr>\n",
       "      <th>10301</th>\n",
       "      <td>0.000339</td>\n",
       "      <td>0.000348</td>\n",
       "      <td>0.001088</td>\n",
       "      <td>0.003855</td>\n",
       "      <td>0.000361</td>\n",
       "    </tr>\n",
       "    <tr>\n",
       "      <th>10302</th>\n",
       "      <td>0.000329</td>\n",
       "      <td>0.000347</td>\n",
       "      <td>0.001078</td>\n",
       "      <td>0.003890</td>\n",
       "      <td>0.000346</td>\n",
       "    </tr>\n",
       "    <tr>\n",
       "      <th>10303</th>\n",
       "      <td>0.000336</td>\n",
       "      <td>0.000338</td>\n",
       "      <td>0.001071</td>\n",
       "      <td>0.003962</td>\n",
       "      <td>0.000339</td>\n",
       "    </tr>\n",
       "  </tbody>\n",
       "</table>\n",
       "<p>10304 rows × 5 columns</p>\n",
       "</div>"
      ],
      "text/plain": [
       "           KPCA       LLE       LOL       PCA     SLMVP\n",
       "0      0.000336  0.000246  0.002069  0.004525  0.000300\n",
       "1      0.000333  0.000249  0.002066  0.004509  0.000303\n",
       "2      0.000334  0.000249  0.002095  0.004535  0.000304\n",
       "3      0.000331  0.000250  0.002096  0.004545  0.000302\n",
       "4      0.000332  0.000249  0.002079  0.004555  0.000305\n",
       "...         ...       ...       ...       ...       ...\n",
       "10299  0.000345  0.000369  0.001052  0.003815  0.000367\n",
       "10300  0.000337  0.000374  0.001029  0.003868  0.000376\n",
       "10301  0.000339  0.000348  0.001088  0.003855  0.000361\n",
       "10302  0.000329  0.000347  0.001078  0.003890  0.000346\n",
       "10303  0.000336  0.000338  0.001071  0.003962  0.000339\n",
       "\n",
       "[10304 rows x 5 columns]"
      ]
     },
     "execution_count": 5,
     "metadata": {},
     "output_type": "execute_result"
    }
   ],
   "source": [
    "df_corrs_avg"
   ]
  },
  {
   "cell_type": "code",
   "execution_count": null,
   "metadata": {},
   "outputs": [],
   "source": [
    "#TODO: highlight the most correlated pixels in the original pictures"
   ]
  }
 ],
 "metadata": {
  "kernelspec": {
   "display_name": "Python 3",
   "language": "python",
   "name": "python3"
  },
  "language_info": {
   "codemirror_mode": {
    "name": "ipython",
    "version": 3
   },
   "file_extension": ".py",
   "mimetype": "text/x-python",
   "name": "python",
   "nbconvert_exporter": "python",
   "pygments_lexer": "ipython3",
   "version": "3.9.1"
  },
  "orig_nbformat": 4,
  "vscode": {
   "interpreter": {
    "hash": "ac2eaa0ea0ebeafcc7822e65e46aa9d4f966f30b695406963e145ea4a91cd4fc"
   }
  }
 },
 "nbformat": 4,
 "nbformat_minor": 2
}
