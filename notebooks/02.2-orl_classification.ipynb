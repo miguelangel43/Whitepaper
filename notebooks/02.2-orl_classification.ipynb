{
 "cells": [
  {
   "cell_type": "code",
   "execution_count": 1,
   "metadata": {},
   "outputs": [],
   "source": [
    "import sys\n",
    "sys.path.append('../src')\n",
    "sys.path.append('../utils')\n",
    "sys.path.append('../visualization')\n",
    "    \n",
    "import numpy as np\n",
    "import pandas as pd\n",
    "import pickle\n",
    "import os\n",
    "\n",
    "from dimensionality_reduction import apply_all_dimensionality_reduction\n",
    "from classification import apply_classifiers_original_features, apply_classifiers_reduced_data"
   ]
  },
  {
   "cell_type": "code",
   "execution_count": 2,
   "metadata": {},
   "outputs": [],
   "source": [
    "# Read processed data\n",
    "X_train = pickle.load(open(os.path.dirname(os.getcwd()) + '/data/orl/processed/X_train.pkl', 'rb'))\n",
    "X_test = pickle.load(open(os.path.dirname(os.getcwd()) + '/data/orl/processed/X_test.pkl', 'rb'))\n",
    "y_train = pickle.load(open(os.path.dirname(os.getcwd()) + '/data/orl/processed/y_train.pkl', 'rb'))\n",
    "y_test = pickle.load(open(os.path.dirname(os.getcwd()) + '/data/orl/processed/y_test.pkl', 'rb'))"
   ]
  },
  {
   "cell_type": "code",
   "execution_count": 3,
   "metadata": {},
   "outputs": [
    {
     "name": "stdout",
     "output_type": "stream",
     "text": [
      "{'C': 0.0001, 'gamma': 1e-07, 'kernel': 'rbf'}\n"
     ]
    },
    {
     "data": {
      "text/plain": [
       "0.925"
      ]
     },
     "execution_count": 3,
     "metadata": {},
     "output_type": "execute_result"
    }
   ],
   "source": [
    "# Apply classifier on original data\n",
    "apply_classifiers_original_features(X_train, y_train, X_test, y_test, 'orl', classifiers=['SVC'])"
   ]
  },
  {
   "cell_type": "code",
   "execution_count": 8,
   "metadata": {},
   "outputs": [
    {
     "data": {
      "text/plain": [
       "0.925"
      ]
     },
     "execution_count": 8,
     "metadata": {},
     "output_type": "execute_result"
    }
   ],
   "source": [
    "# Apply classifier on original data\n",
    "apply_classifiers_original_features(X_train, y_train, X_test, y_test, 'orl', classifiers=['SGD'])"
   ]
  },
  {
   "cell_type": "code",
   "execution_count": 7,
   "metadata": {},
   "outputs": [
    {
     "name": "stderr",
     "output_type": "stream",
     "text": [
      "('300Dim', 'LLE', 'k=18-reg=0.001'): 100%|██████████| 4/4 [00:20<00:00,  5.20s/it]      \n"
     ]
    },
    {
     "name": "stdout",
     "output_type": "stream",
     "text": [
      "Saved reduced data at path: /Users/espina/Unsynced/Whitepaper/data/orl/reduced/reduced_X.pkl\n"
     ]
    }
   ],
   "source": [
    "# Reduce data\n",
    "reduced_X = apply_all_dimensionality_reduction(X_train, X_test, y_train, 'orl', n_components_list=[15, 50, 150, 300],\n",
    "                                               models_list=['SLMVP', 'PCA', 'KPCA', 'LOL', 'LLE'])"
   ]
  },
  {
   "cell_type": "code",
   "execution_count": 3,
   "metadata": {},
   "outputs": [],
   "source": [
    "reduced_X = pickle.load(open(os.path.dirname(os.getcwd()) + '/data/orl/reduced/reduced_X.pkl', 'rb'))"
   ]
  },
  {
   "cell_type": "code",
   "execution_count": 4,
   "metadata": {},
   "outputs": [
    {
     "name": "stderr",
     "output_type": "stream",
     "text": [
      "SVC: 100%|██████████| 24/24 [00:17<00:00,  1.36it/s]\n",
      "SGD: 100%|██████████| 24/24 [00:03<00:00,  7.89it/s]"
     ]
    },
    {
     "name": "stdout",
     "output_type": "stream",
     "text": [
      "Scores saved at: /results/scores/orl_scores.csv\n",
      "Reduced data saved at: /data/orl/reduced/reduced_X_best.pkl\n"
     ]
    },
    {
     "name": "stderr",
     "output_type": "stream",
     "text": [
      "\n"
     ]
    }
   ],
   "source": [
    "# Apply classifier on reduced data\n",
    "scores_df, reduced_X_best = apply_classifiers_reduced_data(reduced_X, y_train, y_test, 'orl',\n",
    "                                                           classifiers=['SGD', 'SVC'])"
   ]
  },
  {
   "cell_type": "code",
   "execution_count": 5,
   "metadata": {},
   "outputs": [
    {
     "data": {
      "text/html": [
       "<div>\n",
       "<style scoped>\n",
       "    .dataframe tbody tr th:only-of-type {\n",
       "        vertical-align: middle;\n",
       "    }\n",
       "\n",
       "    .dataframe tbody tr th {\n",
       "        vertical-align: top;\n",
       "    }\n",
       "\n",
       "    .dataframe thead th {\n",
       "        text-align: right;\n",
       "    }\n",
       "</style>\n",
       "<table border=\"1\" class=\"dataframe\">\n",
       "  <thead>\n",
       "    <tr style=\"text-align: right;\">\n",
       "      <th></th>\n",
       "      <th>Model</th>\n",
       "      <th>Score</th>\n",
       "      <th>Params</th>\n",
       "      <th>Dimensions</th>\n",
       "      <th>Dim. Technique</th>\n",
       "      <th>Dim. Params</th>\n",
       "    </tr>\n",
       "  </thead>\n",
       "  <tbody>\n",
       "    <tr>\n",
       "      <th>41</th>\n",
       "      <td>SGD</td>\n",
       "      <td>1.000</td>\n",
       "      <td>{'alpha': 0.0001, 'average': False, 'class_wei...</td>\n",
       "      <td>150Dim</td>\n",
       "      <td>LLE</td>\n",
       "      <td>k=18-reg=0.001</td>\n",
       "    </tr>\n",
       "    <tr>\n",
       "      <th>47</th>\n",
       "      <td>SGD</td>\n",
       "      <td>0.975</td>\n",
       "      <td>{'alpha': 0.0001, 'average': False, 'class_wei...</td>\n",
       "      <td>300Dim</td>\n",
       "      <td>LLE</td>\n",
       "      <td>k=18-reg=0.001</td>\n",
       "    </tr>\n",
       "    <tr>\n",
       "      <th>17</th>\n",
       "      <td>SVC</td>\n",
       "      <td>0.975</td>\n",
       "      <td>{'C': 0.001, 'gamma': 1e-05, 'kernel': 'rbf'}</td>\n",
       "      <td>150Dim</td>\n",
       "      <td>LLE</td>\n",
       "      <td>k=18-reg=0.001</td>\n",
       "    </tr>\n",
       "    <tr>\n",
       "      <th>20</th>\n",
       "      <td>SVC</td>\n",
       "      <td>0.950</td>\n",
       "      <td>{'C': 0.001, 'gamma': 1e-07, 'kernel': 'rbf'}</td>\n",
       "      <td>300Dim</td>\n",
       "      <td>PCA</td>\n",
       "      <td></td>\n",
       "    </tr>\n",
       "    <tr>\n",
       "      <th>23</th>\n",
       "      <td>SVC</td>\n",
       "      <td>0.950</td>\n",
       "      <td>{'C': 0.001, 'gamma': 1e-05, 'kernel': 'rbf'}</td>\n",
       "      <td>300Dim</td>\n",
       "      <td>LLE</td>\n",
       "      <td>k=18-reg=0.001</td>\n",
       "    </tr>\n",
       "    <tr>\n",
       "      <th>44</th>\n",
       "      <td>SGD</td>\n",
       "      <td>0.925</td>\n",
       "      <td>{'alpha': 0.0001, 'average': False, 'class_wei...</td>\n",
       "      <td>300Dim</td>\n",
       "      <td>PCA</td>\n",
       "      <td></td>\n",
       "    </tr>\n",
       "    <tr>\n",
       "      <th>14</th>\n",
       "      <td>SVC</td>\n",
       "      <td>0.925</td>\n",
       "      <td>{'C': 0.001, 'gamma': 1e-07, 'kernel': 'rbf'}</td>\n",
       "      <td>150Dim</td>\n",
       "      <td>PCA</td>\n",
       "      <td></td>\n",
       "    </tr>\n",
       "    <tr>\n",
       "      <th>8</th>\n",
       "      <td>SVC</td>\n",
       "      <td>0.925</td>\n",
       "      <td>{'C': 0.001, 'gamma': 1e-07, 'kernel': 'rbf'}</td>\n",
       "      <td>50Dim</td>\n",
       "      <td>PCA</td>\n",
       "      <td></td>\n",
       "    </tr>\n",
       "    <tr>\n",
       "      <th>35</th>\n",
       "      <td>SGD</td>\n",
       "      <td>0.850</td>\n",
       "      <td>{'alpha': 0.0001, 'average': False, 'class_wei...</td>\n",
       "      <td>50Dim</td>\n",
       "      <td>LLE</td>\n",
       "      <td>k=18-reg=0.001</td>\n",
       "    </tr>\n",
       "    <tr>\n",
       "      <th>2</th>\n",
       "      <td>SVC</td>\n",
       "      <td>0.850</td>\n",
       "      <td>{'C': 0.001, 'gamma': 1e-07, 'kernel': 'rbf'}</td>\n",
       "      <td>15Dim</td>\n",
       "      <td>PCA</td>\n",
       "      <td></td>\n",
       "    </tr>\n",
       "  </tbody>\n",
       "</table>\n",
       "</div>"
      ],
      "text/plain": [
       "   Model  Score                                             Params Dimensions  \\\n",
       "41   SGD  1.000  {'alpha': 0.0001, 'average': False, 'class_wei...     150Dim   \n",
       "47   SGD  0.975  {'alpha': 0.0001, 'average': False, 'class_wei...     300Dim   \n",
       "17   SVC  0.975      {'C': 0.001, 'gamma': 1e-05, 'kernel': 'rbf'}     150Dim   \n",
       "20   SVC  0.950      {'C': 0.001, 'gamma': 1e-07, 'kernel': 'rbf'}     300Dim   \n",
       "23   SVC  0.950      {'C': 0.001, 'gamma': 1e-05, 'kernel': 'rbf'}     300Dim   \n",
       "44   SGD  0.925  {'alpha': 0.0001, 'average': False, 'class_wei...     300Dim   \n",
       "14   SVC  0.925      {'C': 0.001, 'gamma': 1e-07, 'kernel': 'rbf'}     150Dim   \n",
       "8    SVC  0.925      {'C': 0.001, 'gamma': 1e-07, 'kernel': 'rbf'}      50Dim   \n",
       "35   SGD  0.850  {'alpha': 0.0001, 'average': False, 'class_wei...      50Dim   \n",
       "2    SVC  0.850      {'C': 0.001, 'gamma': 1e-07, 'kernel': 'rbf'}      15Dim   \n",
       "\n",
       "   Dim. Technique     Dim. Params  \n",
       "41            LLE  k=18-reg=0.001  \n",
       "47            LLE  k=18-reg=0.001  \n",
       "17            LLE  k=18-reg=0.001  \n",
       "20            PCA                  \n",
       "23            LLE  k=18-reg=0.001  \n",
       "44            PCA                  \n",
       "14            PCA                  \n",
       "8             PCA                  \n",
       "35            LLE  k=18-reg=0.001  \n",
       "2             PCA                  "
      ]
     },
     "execution_count": 5,
     "metadata": {},
     "output_type": "execute_result"
    }
   ],
   "source": [
    "scores_df.head(10)"
   ]
  },
  {
   "cell_type": "code",
   "execution_count": null,
   "metadata": {},
   "outputs": [],
   "source": []
  }
 ],
 "metadata": {
  "kernelspec": {
   "display_name": "Python 3",
   "language": "python",
   "name": "python3"
  },
  "language_info": {
   "codemirror_mode": {
    "name": "ipython",
    "version": 3
   },
   "file_extension": ".py",
   "mimetype": "text/x-python",
   "name": "python",
   "nbconvert_exporter": "python",
   "pygments_lexer": "ipython3",
   "version": "3.9.16"
  },
  "orig_nbformat": 4,
  "vscode": {
   "interpreter": {
    "hash": "ac2eaa0ea0ebeafcc7822e65e46aa9d4f966f30b695406963e145ea4a91cd4fc"
   }
  }
 },
 "nbformat": 4,
 "nbformat_minor": 2
}
