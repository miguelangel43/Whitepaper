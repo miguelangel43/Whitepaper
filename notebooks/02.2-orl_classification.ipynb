{
 "cells": [
  {
   "cell_type": "code",
   "execution_count": 1,
   "metadata": {},
   "outputs": [],
   "source": [
    "import sys\n",
    "sys.path.append('../src')\n",
    "sys.path.append('../utils')\n",
    "sys.path.append('../visualization')\n",
    "\n",
    "import numpy as np\n",
    "import pandas as pd\n",
    "import pickle\n",
    "import os\n",
    "\n",
    "from dimensionality_reduction import apply_all_dimensionality_reduction\n",
    "from classification import apply_classifiers_original_features, apply_classifiers_reduced_data"
   ]
  },
  {
   "cell_type": "code",
   "execution_count": 2,
   "metadata": {},
   "outputs": [],
   "source": [
    "# Read processed data\n",
    "X_train = pickle.load(open(os.path.dirname(os.getcwd()) + '/data/orl/processed/X_train.pkl', 'rb'))\n",
    "X_test = pickle.load(open(os.path.dirname(os.getcwd()) + '/data/orl/processed/X_test.pkl', 'rb'))\n",
    "y_train = pickle.load(open(os.path.dirname(os.getcwd()) + '/data/orl/processed/y_train.pkl', 'rb'))\n",
    "y_test = pickle.load(open(os.path.dirname(os.getcwd()) + '/data/orl/processed/y_test.pkl', 'rb'))"
   ]
  },
  {
   "cell_type": "code",
   "execution_count": 4,
   "metadata": {},
   "outputs": [
    {
     "data": {
      "text/plain": [
       "0.4875"
      ]
     },
     "execution_count": 4,
     "metadata": {},
     "output_type": "execute_result"
    }
   ],
   "source": [
    "# Apply classifier on original data\n",
    "apply_classifiers_original_features(X_train, y_train, X_test, y_test, 'orl', classifiers=['SVC'])"
   ]
  },
  {
   "cell_type": "code",
   "execution_count": 3,
   "metadata": {},
   "outputs": [
    {
     "data": {
      "text/plain": [
       "0.9375"
      ]
     },
     "execution_count": 3,
     "metadata": {},
     "output_type": "execute_result"
    }
   ],
   "source": [
    "# Apply classifier on original data\n",
    "apply_classifiers_original_features(X_train, y_train, X_test, y_test, 'orl', classifiers=['SGD'])"
   ]
  },
  {
   "cell_type": "code",
   "execution_count": 3,
   "metadata": {},
   "outputs": [
    {
     "name": "stderr",
     "output_type": "stream",
     "text": [
      "('150Dim', 'LLE', 'k=15-reg=0.001'): 100%|██████████| 4/4 [00:11<00:00,  2.96s/it]      \n"
     ]
    },
    {
     "name": "stdout",
     "output_type": "stream",
     "text": [
      "Saved reduced data at path: /Users/espina/Unsynced/Whitepaper/data/orl/reduced/reduced_X.pkl\n"
     ]
    }
   ],
   "source": [
    "# Reduce data\n",
    "reduced_X = apply_all_dimensionality_reduction(X_train, X_test, y_train, 'orl', n_components_list=[5, 15, 50, 150],\n",
    "                                               models_list=['SLMVP', 'PCA', 'KPCA', 'LOL', 'LLE'])"
   ]
  },
  {
   "cell_type": "code",
   "execution_count": 3,
   "metadata": {},
   "outputs": [],
   "source": [
    "reduced_X = pickle.load(open(os.path.dirname(os.getcwd()) + '/data/orl/reduced/reduced_X.pkl', 'rb'))"
   ]
  },
  {
   "cell_type": "code",
   "execution_count": 4,
   "metadata": {},
   "outputs": [
    {
     "name": "stderr",
     "output_type": "stream",
     "text": [
      "SVC: 100%|██████████| 24/24 [00:16<00:00,  1.46it/s]\n",
      "SGD: 100%|██████████| 24/24 [00:01<00:00, 17.36it/s]"
     ]
    },
    {
     "name": "stdout",
     "output_type": "stream",
     "text": [
      "Scores saved at: /results/scores/orl_scores.csv\n",
      "Reduced data saved at: /data/orl/reduced/reduced_X_best.pkl\n"
     ]
    },
    {
     "name": "stderr",
     "output_type": "stream",
     "text": [
      "\n"
     ]
    }
   ],
   "source": [
    "# Apply classifier on reduced data\n",
    "scores_df, reduced_X_best = apply_classifiers_reduced_data(reduced_X, y_train, y_test, 'orl',\n",
    "                                                           classifiers=['SGD', 'SVC'])"
   ]
  },
  {
   "cell_type": "code",
   "execution_count": 5,
   "metadata": {},
   "outputs": [
    {
     "data": {
      "text/html": [
       "<div>\n",
       "<style scoped>\n",
       "    .dataframe tbody tr th:only-of-type {\n",
       "        vertical-align: middle;\n",
       "    }\n",
       "\n",
       "    .dataframe tbody tr th {\n",
       "        vertical-align: top;\n",
       "    }\n",
       "\n",
       "    .dataframe thead th {\n",
       "        text-align: right;\n",
       "    }\n",
       "</style>\n",
       "<table border=\"1\" class=\"dataframe\">\n",
       "  <thead>\n",
       "    <tr style=\"text-align: right;\">\n",
       "      <th></th>\n",
       "      <th>Model</th>\n",
       "      <th>Score</th>\n",
       "      <th>Params</th>\n",
       "      <th>Dimensions</th>\n",
       "      <th>Dim. Technique</th>\n",
       "      <th>Dim. Params</th>\n",
       "    </tr>\n",
       "  </thead>\n",
       "  <tbody>\n",
       "    <tr>\n",
       "      <th>23</th>\n",
       "      <td>SVC</td>\n",
       "      <td>0.97500</td>\n",
       "      <td>{'C': 100, 'gamma': 0.1, 'kernel': 'rbf'}</td>\n",
       "      <td>150Dim</td>\n",
       "      <td>LLE</td>\n",
       "      <td>k=15-reg=0.001</td>\n",
       "    </tr>\n",
       "    <tr>\n",
       "      <th>47</th>\n",
       "      <td>SGD</td>\n",
       "      <td>0.96250</td>\n",
       "      <td>{'alpha': 0.0001, 'average': False, 'class_wei...</td>\n",
       "      <td>150Dim</td>\n",
       "      <td>LLE</td>\n",
       "      <td>k=15-reg=0.001</td>\n",
       "    </tr>\n",
       "    <tr>\n",
       "      <th>41</th>\n",
       "      <td>SGD</td>\n",
       "      <td>0.93750</td>\n",
       "      <td>{'alpha': 0.0001, 'average': False, 'class_wei...</td>\n",
       "      <td>50Dim</td>\n",
       "      <td>LLE</td>\n",
       "      <td>k=15-reg=0.001</td>\n",
       "    </tr>\n",
       "    <tr>\n",
       "      <th>17</th>\n",
       "      <td>SVC</td>\n",
       "      <td>0.93125</td>\n",
       "      <td>{'C': 10, 'gamma': 1, 'kernel': 'rbf'}</td>\n",
       "      <td>50Dim</td>\n",
       "      <td>LLE</td>\n",
       "      <td>k=15-reg=0.001</td>\n",
       "    </tr>\n",
       "    <tr>\n",
       "      <th>44</th>\n",
       "      <td>SGD</td>\n",
       "      <td>0.88125</td>\n",
       "      <td>{'alpha': 0.0001, 'average': False, 'class_wei...</td>\n",
       "      <td>150Dim</td>\n",
       "      <td>PCA</td>\n",
       "      <td></td>\n",
       "    </tr>\n",
       "    <tr>\n",
       "      <th>14</th>\n",
       "      <td>SVC</td>\n",
       "      <td>0.86875</td>\n",
       "      <td>{'C': 0.1, 'gamma': 0.0001, 'kernel': 'rbf'}</td>\n",
       "      <td>50Dim</td>\n",
       "      <td>PCA</td>\n",
       "      <td></td>\n",
       "    </tr>\n",
       "    <tr>\n",
       "      <th>20</th>\n",
       "      <td>SVC</td>\n",
       "      <td>0.85625</td>\n",
       "      <td>{'C': 0.1, 'gamma': 0.0001, 'kernel': 'rbf'}</td>\n",
       "      <td>150Dim</td>\n",
       "      <td>PCA</td>\n",
       "      <td></td>\n",
       "    </tr>\n",
       "    <tr>\n",
       "      <th>11</th>\n",
       "      <td>SVC</td>\n",
       "      <td>0.80625</td>\n",
       "      <td>{'C': 100, 'gamma': 1, 'kernel': 'rbf'}</td>\n",
       "      <td>15Dim</td>\n",
       "      <td>LLE</td>\n",
       "      <td>k=15-reg=0.001</td>\n",
       "    </tr>\n",
       "    <tr>\n",
       "      <th>5</th>\n",
       "      <td>SVC</td>\n",
       "      <td>0.73750</td>\n",
       "      <td>{'C': 1000, 'gamma': 1, 'kernel': 'rbf'}</td>\n",
       "      <td>5Dim</td>\n",
       "      <td>LLE</td>\n",
       "      <td>k=15-reg=0.001</td>\n",
       "    </tr>\n",
       "    <tr>\n",
       "      <th>2</th>\n",
       "      <td>SVC</td>\n",
       "      <td>0.67500</td>\n",
       "      <td>{'C': 0.1, 'gamma': 0.001, 'kernel': 'rbf'}</td>\n",
       "      <td>5Dim</td>\n",
       "      <td>PCA</td>\n",
       "      <td></td>\n",
       "    </tr>\n",
       "  </tbody>\n",
       "</table>\n",
       "</div>"
      ],
      "text/plain": [
       "   Model    Score                                             Params  \\\n",
       "23   SVC  0.97500          {'C': 100, 'gamma': 0.1, 'kernel': 'rbf'}   \n",
       "47   SGD  0.96250  {'alpha': 0.0001, 'average': False, 'class_wei...   \n",
       "41   SGD  0.93750  {'alpha': 0.0001, 'average': False, 'class_wei...   \n",
       "17   SVC  0.93125             {'C': 10, 'gamma': 1, 'kernel': 'rbf'}   \n",
       "44   SGD  0.88125  {'alpha': 0.0001, 'average': False, 'class_wei...   \n",
       "14   SVC  0.86875       {'C': 0.1, 'gamma': 0.0001, 'kernel': 'rbf'}   \n",
       "20   SVC  0.85625       {'C': 0.1, 'gamma': 0.0001, 'kernel': 'rbf'}   \n",
       "11   SVC  0.80625            {'C': 100, 'gamma': 1, 'kernel': 'rbf'}   \n",
       "5    SVC  0.73750           {'C': 1000, 'gamma': 1, 'kernel': 'rbf'}   \n",
       "2    SVC  0.67500        {'C': 0.1, 'gamma': 0.001, 'kernel': 'rbf'}   \n",
       "\n",
       "   Dimensions Dim. Technique     Dim. Params  \n",
       "23     150Dim            LLE  k=15-reg=0.001  \n",
       "47     150Dim            LLE  k=15-reg=0.001  \n",
       "41      50Dim            LLE  k=15-reg=0.001  \n",
       "17      50Dim            LLE  k=15-reg=0.001  \n",
       "44     150Dim            PCA                  \n",
       "14      50Dim            PCA                  \n",
       "20     150Dim            PCA                  \n",
       "11      15Dim            LLE  k=15-reg=0.001  \n",
       "5        5Dim            LLE  k=15-reg=0.001  \n",
       "2        5Dim            PCA                  "
      ]
     },
     "execution_count": 5,
     "metadata": {},
     "output_type": "execute_result"
    }
   ],
   "source": [
    "scores_df.head(10)"
   ]
  }
 ],
 "metadata": {
  "kernelspec": {
   "display_name": "Python 3",
   "language": "python",
   "name": "python3"
  },
  "language_info": {
   "codemirror_mode": {
    "name": "ipython",
    "version": 3
   },
   "file_extension": ".py",
   "mimetype": "text/x-python",
   "name": "python",
   "nbconvert_exporter": "python",
   "pygments_lexer": "ipython3",
   "version": "3.9.16"
  },
  "orig_nbformat": 4,
  "vscode": {
   "interpreter": {
    "hash": "ac2eaa0ea0ebeafcc7822e65e46aa9d4f966f30b695406963e145ea4a91cd4fc"
   }
  }
 },
 "nbformat": 4,
 "nbformat_minor": 2
}
