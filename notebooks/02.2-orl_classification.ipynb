{
 "cells": [
  {
   "cell_type": "code",
   "execution_count": 1,
   "metadata": {},
   "outputs": [],
   "source": [
    "import sys\n",
    "sys.path.append('../src')\n",
    "sys.path.append('../utils')\n",
    "sys.path.append('../visualization')\n",
    "\n",
    "import numpy as np\n",
    "import pandas as pd\n",
    "import pickle\n",
    "import os\n",
    "\n",
    "from dimensionality_reduction import apply_all_dimensionality_reduction\n",
    "from classification import apply_classifiers_original_features, apply_classifiers_reduced_data"
   ]
  },
  {
   "cell_type": "code",
   "execution_count": 2,
   "metadata": {},
   "outputs": [],
   "source": [
    "# Read processed data\n",
    "X_train = pickle.load(open(os.path.dirname(os.getcwd()) + '/data/orl/processed/X_train.pkl', 'rb'))\n",
    "X_test = pickle.load(open(os.path.dirname(os.getcwd()) + '/data/orl/processed/X_test.pkl', 'rb'))\n",
    "y_train = pickle.load(open(os.path.dirname(os.getcwd()) + '/data/orl/processed/y_train.pkl', 'rb'))\n",
    "y_test = pickle.load(open(os.path.dirname(os.getcwd()) + '/data/orl/processed/y_test.pkl', 'rb'))"
   ]
  },
  {
   "cell_type": "code",
   "execution_count": 3,
   "metadata": {},
   "outputs": [
    {
     "data": {
      "text/plain": [
       "0.4875"
      ]
     },
     "execution_count": 3,
     "metadata": {},
     "output_type": "execute_result"
    }
   ],
   "source": [
    "# Apply classifier on original data\n",
    "apply_classifiers_original_features(X_train, y_train, X_test, y_test, 'orl', classifiers=['SVC'])"
   ]
  },
  {
   "cell_type": "code",
   "execution_count": 3,
   "metadata": {},
   "outputs": [
    {
     "name": "stderr",
     "output_type": "stream",
     "text": [
      "('150Dim', 'LLE', 'k=15-reg=0.001'): 100%|██████████| 4/4 [00:12<00:00,  3.24s/it]      \n"
     ]
    },
    {
     "name": "stdout",
     "output_type": "stream",
     "text": [
      "Saved reduced data at path: /Users/espina/Unsynced/Whitepaper/data/orl/reduced/reduced_X.pkl\n"
     ]
    }
   ],
   "source": [
    "# Reduce data\n",
    "reduced_X = apply_all_dimensionality_reduction(X_train, X_test, y_train, 'orl', n_components_list=[5, 15, 50, 150],\n",
    "                                               models_list=['SLMVP', 'PCA', 'KPCA', 'LOL', 'LLE'])"
   ]
  },
  {
   "cell_type": "code",
   "execution_count": 3,
   "metadata": {},
   "outputs": [],
   "source": [
    "reduced_X = pickle.load(open(os.path.dirname(os.getcwd()) + '/data/orl/reduced/reduced_X.pkl', 'rb'))"
   ]
  },
  {
   "cell_type": "code",
   "execution_count": 4,
   "metadata": {},
   "outputs": [
    {
     "name": "stderr",
     "output_type": "stream",
     "text": [
      "XGBoost:  75%|███████▌  | 18/24 [02:41<00:51,  8.59s/it]"
     ]
    }
   ],
   "source": [
    "# Apply classifier on reduced data\n",
    "scores_df, reduced_X_best = apply_classifiers_reduced_data(reduced_X, y_train, y_test, 'orl',\n",
    "                                                           classifiers=['SGD'])"
   ]
  },
  {
   "cell_type": "code",
   "execution_count": 8,
   "metadata": {},
   "outputs": [
    {
     "data": {
      "text/html": [
       "<div>\n",
       "<style scoped>\n",
       "    .dataframe tbody tr th:only-of-type {\n",
       "        vertical-align: middle;\n",
       "    }\n",
       "\n",
       "    .dataframe tbody tr th {\n",
       "        vertical-align: top;\n",
       "    }\n",
       "\n",
       "    .dataframe thead th {\n",
       "        text-align: right;\n",
       "    }\n",
       "</style>\n",
       "<table border=\"1\" class=\"dataframe\">\n",
       "  <thead>\n",
       "    <tr style=\"text-align: right;\">\n",
       "      <th></th>\n",
       "      <th>Model</th>\n",
       "      <th>Score</th>\n",
       "      <th>Params</th>\n",
       "      <th>Dimensions</th>\n",
       "      <th>Dim. Technique</th>\n",
       "      <th>Dim. Params</th>\n",
       "    </tr>\n",
       "  </thead>\n",
       "  <tbody>\n",
       "    <tr>\n",
       "      <th>47</th>\n",
       "      <td>SVC</td>\n",
       "      <td>0.97500</td>\n",
       "      <td>{'C': 100, 'gamma': 0.1, 'kernel': 'rbf'}</td>\n",
       "      <td>150Dim</td>\n",
       "      <td>LLE</td>\n",
       "      <td>k=15-reg=0.001</td>\n",
       "    </tr>\n",
       "    <tr>\n",
       "      <th>71</th>\n",
       "      <td>SGD</td>\n",
       "      <td>0.96250</td>\n",
       "      <td>{'alpha': 0.0001, 'average': False, 'class_wei...</td>\n",
       "      <td>150Dim</td>\n",
       "      <td>LLE</td>\n",
       "      <td>k=15-reg=0.001</td>\n",
       "    </tr>\n",
       "    <tr>\n",
       "      <th>65</th>\n",
       "      <td>SGD</td>\n",
       "      <td>0.93750</td>\n",
       "      <td>{'alpha': 0.0001, 'average': False, 'class_wei...</td>\n",
       "      <td>50Dim</td>\n",
       "      <td>LLE</td>\n",
       "      <td>k=15-reg=0.001</td>\n",
       "    </tr>\n",
       "    <tr>\n",
       "      <th>41</th>\n",
       "      <td>SVC</td>\n",
       "      <td>0.93125</td>\n",
       "      <td>{'C': 10, 'gamma': 1, 'kernel': 'rbf'}</td>\n",
       "      <td>50Dim</td>\n",
       "      <td>LLE</td>\n",
       "      <td>k=15-reg=0.001</td>\n",
       "    </tr>\n",
       "    <tr>\n",
       "      <th>38</th>\n",
       "      <td>SVC</td>\n",
       "      <td>0.89375</td>\n",
       "      <td>{'C': 0.1, 'gamma': 0.0001, 'kernel': 'rbf'}</td>\n",
       "      <td>50Dim</td>\n",
       "      <td>PCA</td>\n",
       "      <td></td>\n",
       "    </tr>\n",
       "    <tr>\n",
       "      <th>...</th>\n",
       "      <td>...</td>\n",
       "      <td>...</td>\n",
       "      <td>...</td>\n",
       "      <td>...</td>\n",
       "      <td>...</td>\n",
       "      <td>...</td>\n",
       "    </tr>\n",
       "    <tr>\n",
       "      <th>39</th>\n",
       "      <td>SVC</td>\n",
       "      <td>0.02500</td>\n",
       "      <td>{'C': 100, 'gamma': 1, 'kernel': 'rbf'}</td>\n",
       "      <td>50Dim</td>\n",
       "      <td>KPCA</td>\n",
       "      <td>Radial</td>\n",
       "    </tr>\n",
       "    <tr>\n",
       "      <th>31</th>\n",
       "      <td>SVC</td>\n",
       "      <td>0.02500</td>\n",
       "      <td>{'C': 0.1, 'gamma': 1, 'kernel': 'rbf'}</td>\n",
       "      <td>15Dim</td>\n",
       "      <td>SLMVP</td>\n",
       "      <td>Radial-Gammas=0.1</td>\n",
       "    </tr>\n",
       "    <tr>\n",
       "      <th>37</th>\n",
       "      <td>SVC</td>\n",
       "      <td>0.02500</td>\n",
       "      <td>{'C': 0.1, 'gamma': 1, 'kernel': 'rbf'}</td>\n",
       "      <td>50Dim</td>\n",
       "      <td>SLMVP</td>\n",
       "      <td>Radial-Gammas=0.1</td>\n",
       "    </tr>\n",
       "    <tr>\n",
       "      <th>36</th>\n",
       "      <td>SVC</td>\n",
       "      <td>0.02500</td>\n",
       "      <td>{'C': 10, 'gamma': 1, 'kernel': 'rbf'}</td>\n",
       "      <td>50Dim</td>\n",
       "      <td>SLMVP</td>\n",
       "      <td>Radial-Gammas=0.01</td>\n",
       "    </tr>\n",
       "    <tr>\n",
       "      <th>50</th>\n",
       "      <td>SGD</td>\n",
       "      <td>0.00000</td>\n",
       "      <td>{'alpha': 0.0001, 'average': False, 'class_wei...</td>\n",
       "      <td>5Dim</td>\n",
       "      <td>PCA</td>\n",
       "      <td></td>\n",
       "    </tr>\n",
       "  </tbody>\n",
       "</table>\n",
       "<p>72 rows × 6 columns</p>\n",
       "</div>"
      ],
      "text/plain": [
       "   Model    Score                                             Params  \\\n",
       "47   SVC  0.97500          {'C': 100, 'gamma': 0.1, 'kernel': 'rbf'}   \n",
       "71   SGD  0.96250  {'alpha': 0.0001, 'average': False, 'class_wei...   \n",
       "65   SGD  0.93750  {'alpha': 0.0001, 'average': False, 'class_wei...   \n",
       "41   SVC  0.93125             {'C': 10, 'gamma': 1, 'kernel': 'rbf'}   \n",
       "38   SVC  0.89375       {'C': 0.1, 'gamma': 0.0001, 'kernel': 'rbf'}   \n",
       "..   ...      ...                                                ...   \n",
       "39   SVC  0.02500            {'C': 100, 'gamma': 1, 'kernel': 'rbf'}   \n",
       "31   SVC  0.02500            {'C': 0.1, 'gamma': 1, 'kernel': 'rbf'}   \n",
       "37   SVC  0.02500            {'C': 0.1, 'gamma': 1, 'kernel': 'rbf'}   \n",
       "36   SVC  0.02500             {'C': 10, 'gamma': 1, 'kernel': 'rbf'}   \n",
       "50   SGD  0.00000  {'alpha': 0.0001, 'average': False, 'class_wei...   \n",
       "\n",
       "   Dimensions Dim. Technique         Dim. Params  \n",
       "47     150Dim            LLE      k=15-reg=0.001  \n",
       "71     150Dim            LLE      k=15-reg=0.001  \n",
       "65      50Dim            LLE      k=15-reg=0.001  \n",
       "41      50Dim            LLE      k=15-reg=0.001  \n",
       "38      50Dim            PCA                      \n",
       "..        ...            ...                 ...  \n",
       "39      50Dim           KPCA              Radial  \n",
       "31      15Dim          SLMVP   Radial-Gammas=0.1  \n",
       "37      50Dim          SLMVP   Radial-Gammas=0.1  \n",
       "36      50Dim          SLMVP  Radial-Gammas=0.01  \n",
       "50       5Dim            PCA                      \n",
       "\n",
       "[72 rows x 6 columns]"
      ]
     },
     "execution_count": 8,
     "metadata": {},
     "output_type": "execute_result"
    }
   ],
   "source": [
    "scores_df"
   ]
  },
  {
   "cell_type": "code",
   "execution_count": null,
   "metadata": {},
   "outputs": [],
   "source": []
  }
 ],
 "metadata": {
  "kernelspec": {
   "display_name": "Python 3",
   "language": "python",
   "name": "python3"
  },
  "language_info": {
   "codemirror_mode": {
    "name": "ipython",
    "version": 3
   },
   "file_extension": ".py",
   "mimetype": "text/x-python",
   "name": "python",
   "nbconvert_exporter": "python",
   "pygments_lexer": "ipython3",
   "version": "3.9.16"
  },
  "orig_nbformat": 4,
  "vscode": {
   "interpreter": {
    "hash": "ac2eaa0ea0ebeafcc7822e65e46aa9d4f966f30b695406963e145ea4a91cd4fc"
   }
  }
 },
 "nbformat": 4,
 "nbformat_minor": 2
}
