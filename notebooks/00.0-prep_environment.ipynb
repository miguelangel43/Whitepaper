{
 "cells": [
  {
   "attachments": {},
   "cell_type": "markdown",
   "metadata": {},
   "source": [
    "## Install requirements"
   ]
  },
  {
   "cell_type": "code",
   "execution_count": null,
   "metadata": {},
   "outputs": [],
   "source": [
    "# Install Python modules listed in requirements.txt\n",
    "!pip install -r ../requirements.txt"
   ]
  },
  {
   "attachments": {},
   "cell_type": "markdown",
   "metadata": {},
   "source": [
    "## Create Folder Structure\n",
    "\n",
    "This folders are not on GitHub"
   ]
  },
  {
   "cell_type": "code",
   "execution_count": null,
   "metadata": {},
   "outputs": [],
   "source": [
    "import os\n",
    "\n",
    "root = os.path.dirname(os.getcwd())\n",
    "\n",
    "# make /data/ folder and subfolders\n",
    "!mkdir {root + '/data'}\n",
    "for dataset in ['/orl', '/mnist']:\n",
    "    !mkdir {root + '/data' + dataset}\n",
    "    for stage in ['/processed', '/raw', '/reduced', '/split']:\n",
    "        !mkdir {root + '/data' + dataset + stage}\n",
    "\n",
    "# make /models/classifiers folder and subfolders\n",
    "!mkdir {root + '/models'}\n",
    "!mkdir {root + '/models/classifiers'}\n",
    "!mkdir {root + '/models/classifiers/on_orig_features'}\n",
    "!mkdir {root + '/models/classifiers/on_reduced_data'}\n",
    "for dataset in ['/orl', '/mnist']:\n",
    "    !mkdir {root + '/models/classifiers/on_orig_features' + dataset}\n",
    "    !mkdir {root + '/models/classifiers/on_reduced_data' + dataset}"
   ]
  },
  {
   "attachments": {},
   "cell_type": "markdown",
   "metadata": {},
   "source": [
    "## Download Datasets"
   ]
  },
  {
   "cell_type": "code",
   "execution_count": null,
   "metadata": {},
   "outputs": [],
   "source": [
    "# MNIST\n",
    "\n",
    "file_names = ['train-images-idx3-ubyte.gz', 'train-labels-idx1-ubyte.gz',\n",
    "              't10k-images-idx3-ubyte.gz', 't10k-labels-idx1-ubyte.gz']\n",
    "\n",
    "for name in file_names:\n",
    "    !wget {'http://dia.fi.upm.es/~lbaumela/PracRF11/' + name}\n",
    "    !gzip -d {name}\n",
    "    !mv {name[:-3]} {root + '/data/mnist/raw/'}\n"
   ]
  }
 ],
 "metadata": {
  "kernelspec": {
   "display_name": "Python 3",
   "language": "python",
   "name": "python3"
  },
  "language_info": {
   "codemirror_mode": {
    "name": "ipython",
    "version": 3
   },
   "file_extension": ".py",
   "mimetype": "text/x-python",
   "name": "python",
   "nbconvert_exporter": "python",
   "pygments_lexer": "ipython3",
   "version": "3.9.16"
  },
  "orig_nbformat": 4,
  "vscode": {
   "interpreter": {
    "hash": "ac2eaa0ea0ebeafcc7822e65e46aa9d4f966f30b695406963e145ea4a91cd4fc"
   }
  }
 },
 "nbformat": 4,
 "nbformat_minor": 2
}
