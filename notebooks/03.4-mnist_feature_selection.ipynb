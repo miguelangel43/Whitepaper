{
 "cells": [
  {
   "cell_type": "code",
   "execution_count": 1,
   "metadata": {},
   "outputs": [],
   "source": [
    "import sys\n",
    "sys.path.append('../utils')\n",
    "sys.path.append('../src')\n",
    "\n",
    "import pickle\n",
    "import os\n",
    "from tqdm import tqdm\n",
    "import pandas as pd\n",
    "from utils import get_corr_table, get_weights\n",
    "from classification import apply_classifiers_original_features\n",
    "\n",
    "dataset_name = 'mnist'"
   ]
  },
  {
   "cell_type": "code",
   "execution_count": null,
   "metadata": {},
   "outputs": [],
   "source": [
    "# Read the best parameters configuration for each of the dimensionality reduction techniques\n",
    "reduced_X_best = pickle.load(open(os.path.dirname(os.getcwd()) + f'/data/{dataset_name}/reduced/reduced_X_best.pkl', 'rb'))\n",
    "\n",
    "# Read processed data\n",
    "X_train = pickle.load(open(os.path.dirname(os.getcwd()) + f'/data/{dataset_name}/processed/X_train.pkl', 'rb'))\n",
    "X_test = pickle.load(open(os.path.dirname(os.getcwd()) + f'/data/{dataset_name}/processed/X_test.pkl', 'rb'))\n",
    "y_train = pickle.load(open(os.path.dirname(os.getcwd()) + f'/data/{dataset_name}/processed/y_train.pkl', 'rb'))\n",
    "y_test = pickle.load(open(os.path.dirname(os.getcwd()) + f'/data/{dataset_name}/processed/y_test.pkl', 'rb'))\n",
    "\n",
    "\n",
    "# Calculate the correlation with the original features\n",
    "# Calculate variation of each component\n",
    "weights = get_weights(reduced_X_best, n_components=150)\n",
    "\n",
    "# Calculate correlation with original features\n",
    "df_corrs, df_corrs_avg = get_corr_table(reduced_X_best, X_train, abs=False, weighted=True, weights=weights)\n",
    "df_corrs_avg = df_corrs_avg.reset_index()\n",
    "\n",
    "# Get lists of features indices ordered by correlation\n",
    "most_correlated_pixels = {}\n",
    "for key in df_corrs_avg.keys()[1:]:\n",
    "    most_correlated_pixels[key] = df_corrs_avg.sort_values(by=key, ascending=False)['index'].values\n"
   ]
  },
  {
   "cell_type": "code",
   "execution_count": null,
   "metadata": {},
   "outputs": [],
   "source": [
    "scores = dict()  # Dictionary to store scores of different classifiers\n",
    "\n",
    "pbar = tqdm(list(range(500, 10304, 500)) + [10304])\n",
    "for num_dim in pbar:\n",
    "    for dim_technique in df_corrs_avg.keys()[1:]:\n",
    "        pbar.set_description(f'{dim_technique} {num_dim} Dimensions')\n",
    "\n",
    "        # Classify with SGD\n",
    "        res_sgd = apply_classifiers_original_features(\n",
    "            X_train[:, most_correlated_pixels[dim_technique][:num_dim]],\n",
    "            y_train,\n",
    "            X_test[:, most_correlated_pixels[dim_technique][:num_dim]],\n",
    "            y_test,\n",
    "            dataset_name,\n",
    "            classifiers=['SGD'])\n",
    "        \n",
    "        # Classify with SVC\n",
    "        res_svc = apply_classifiers_original_features(\n",
    "            X_train[:, most_correlated_pixels[dim_technique][:num_dim]],\n",
    "            y_train,\n",
    "            X_test[:, most_correlated_pixels[dim_technique][:num_dim]],\n",
    "            y_test,\n",
    "            dataset_name,\n",
    "            classifiers=['SVC'])\n",
    "        \n",
    "        scores[(dim_technique, num_dim)] = [res_sgd, res_svc]\n",
    "\n",
    "scores_df = pd.DataFrame.from_dict(scores, orient='index', columns=[\n",
    "    'SGD Score', 'SVC Score']).reset_index()\n",
    "scores_df[['Dim Technique', 'Num Dimensions']] = scores_df['index'].apply(pd.Series)\n",
    "\n",
    "scores_df = scores_df[['Dim Technique', 'Num Dimensions', 'SGD Score', 'SVC Score']]\n",
    "\n",
    "# Save scores as CSV\n",
    "scores_df.to_csv(os.path.dirname(os.getcwd()) + f'/results/feature_selection/{dataset_name}_scores.csv')"
   ]
  },
  {
   "cell_type": "code",
   "execution_count": null,
   "metadata": {},
   "outputs": [],
   "source": [
    "import matplotlib.pyplot as plt\n",
    "\n",
    "# Assuming you have scores_df DataFrame already\n",
    "scores_df = pd.read_csv(os.path.dirname(os.getcwd()) + f'/results/feature_selection/{dataset_name}_scores.csv')\n",
    "\n",
    "# Define a colormap for different techniques\n",
    "technique_colors = {'KPCA': 'blue', 'LLE': 'green', 'LOL': 'red', 'PCA': 'orange', 'SLMVP': 'purple'}\n",
    "\n",
    "# Create two subplots side by side\n",
    "fig, axs = plt.subplots(1, 2, figsize=(12, 5))\n",
    "\n",
    "# Plot for SGD Score\n",
    "for technique, color in technique_colors.items():\n",
    "    subset_df = scores_df[scores_df['Dim Technique'] == technique]\n",
    "    axs[0].plot(subset_df['Num Dimensions'], subset_df['SGD Score'], marker='o', linestyle='-', color=color, label=technique)\n",
    "\n",
    "axs[0].set_title('SGD Score')\n",
    "axs[0].set_xlabel('Num Dimensions')\n",
    "axs[0].set_ylabel('Score')\n",
    "axs[0].legend()\n",
    "\n",
    "# Plot for SVC Score\n",
    "for technique, color in technique_colors.items():\n",
    "    subset_df = scores_df[scores_df['Dim Technique'] == technique]\n",
    "    axs[1].plot(subset_df['Num Dimensions'], subset_df['SVC Score'], marker='o', linestyle='-', color=color, label=technique)\n",
    "\n",
    "axs[1].set_title('SVC Score')\n",
    "axs[1].set_xlabel('Num Dimensions')\n",
    "axs[1].set_ylabel('Score')\n",
    "axs[1].legend()\n",
    "\n",
    "# Adjust layout\n",
    "plt.tight_layout()\n",
    "\n",
    "# Show the plots\n",
    "plt.show()"
   ]
  }
 ],
 "metadata": {
  "kernelspec": {
   "display_name": "Python 3",
   "language": "python",
   "name": "python3"
  },
  "language_info": {
   "codemirror_mode": {
    "name": "ipython",
    "version": 3
   },
   "file_extension": ".py",
   "mimetype": "text/x-python",
   "name": "python",
   "nbconvert_exporter": "python",
   "pygments_lexer": "ipython3",
   "version": "3.9.1"
  },
  "orig_nbformat": 4,
  "vscode": {
   "interpreter": {
    "hash": "ac2eaa0ea0ebeafcc7822e65e46aa9d4f966f30b695406963e145ea4a91cd4fc"
   }
  }
 },
 "nbformat": 4,
 "nbformat_minor": 2
}
