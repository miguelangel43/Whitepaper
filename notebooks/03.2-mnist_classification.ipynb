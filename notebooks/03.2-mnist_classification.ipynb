{
 "cells": [
  {
   "attachments": {},
   "cell_type": "markdown",
   "metadata": {},
   "source": [
    "# Dimensionality Reduction and Classification on MNIST Dataset"
   ]
  },
  {
   "cell_type": "code",
   "execution_count": 1,
   "metadata": {},
   "outputs": [],
   "source": [
    "import sys\n",
    "sys.path.append('../src')\n",
    "sys.path.append('../utils')\n",
    "sys.path.append('../visualization')\n",
    "\n",
    "import numpy as np\n",
    "import pandas as pd\n",
    "import pickle\n",
    "import os\n",
    "\n",
    "from dimensionality_reduction import apply_all_dimensionality_reduction\n",
    "from classification import apply_classifiers_original_features, apply_classifiers_reduced_data\n",
    "\n",
    "# Input\n",
    "dataset_name = 'mnist'"
   ]
  },
  {
   "cell_type": "code",
   "execution_count": 2,
   "metadata": {},
   "outputs": [],
   "source": [
    "# Read processed data\n",
    "X_train = pickle.load(open(os.path.dirname(os.getcwd()) + f'/data/{dataset_name}/processed/X_train.pkl', 'rb'))\n",
    "X_test = pickle.load(open(os.path.dirname(os.getcwd()) + f'/data/{dataset_name}/processed/X_test.pkl', 'rb'))\n",
    "y_train = pickle.load(open(os.path.dirname(os.getcwd()) + f'/data/{dataset_name}/processed/y_train.pkl', 'rb'))\n",
    "y_test = pickle.load(open(os.path.dirname(os.getcwd()) + f'/data/{dataset_name}/processed/y_test.pkl', 'rb'))"
   ]
  },
  {
   "cell_type": "code",
   "execution_count": 4,
   "metadata": {},
   "outputs": [
    {
     "data": {
      "text/plain": [
       "0.91"
      ]
     },
     "execution_count": 4,
     "metadata": {},
     "output_type": "execute_result"
    }
   ],
   "source": [
    "# Apply classifier on original data\n",
    "apply_classifiers_original_features(X_train, y_train, X_test, y_test, 'mnist', classifiers=['SVC'])"
   ]
  },
  {
   "cell_type": "code",
   "execution_count": 5,
   "metadata": {},
   "outputs": [
    {
     "data": {
      "text/plain": [
       "0.85"
      ]
     },
     "execution_count": 5,
     "metadata": {},
     "output_type": "execute_result"
    }
   ],
   "source": [
    "# Apply classifier on original data\n",
    "apply_classifiers_original_features(X_train, y_train, X_test, y_test, 'mnist', classifiers=['SGD'])"
   ]
  },
  {
   "cell_type": "code",
   "execution_count": 4,
   "metadata": {},
   "outputs": [
    {
     "name": "stderr",
     "output_type": "stream",
     "text": [
      "('150Dim', 'LLE', 'k=24-reg=0.001'): 100%|██████████| 3/3 [00:06<00:00,  2.11s/it]      "
     ]
    },
    {
     "name": "stdout",
     "output_type": "stream",
     "text": [
      "Saved reduced data at path: /Users/espina/Unsynced/Whitepaper/data/mnist/reduced/reduced_X.pkl\n"
     ]
    },
    {
     "name": "stderr",
     "output_type": "stream",
     "text": [
      "\n"
     ]
    }
   ],
   "source": [
    "# Reduce data\n",
    "reduced_X = apply_all_dimensionality_reduction(X_train, X_test, y_train, 'mnist', n_components_list=[50, 100, 150],\n",
    "                                               models_list=['SLMVP', 'PCA', 'KPCA', 'LOL', 'LLE'])"
   ]
  },
  {
   "cell_type": "code",
   "execution_count": 6,
   "metadata": {},
   "outputs": [],
   "source": [
    "# Read reduced data\n",
    "reduced_X = pickle.load(open(os.path.dirname(os.getcwd()) + f'/data/{dataset_name}/reduced/reduced_X.pkl', 'rb'))"
   ]
  },
  {
   "cell_type": "code",
   "execution_count": 7,
   "metadata": {},
   "outputs": [
    {
     "name": "stderr",
     "output_type": "stream",
     "text": [
      "SVC: 100%|██████████| 18/18 [00:40<00:00,  2.23s/it]\n",
      "SGD: 100%|██████████| 18/18 [00:00<00:00, 27.49it/s]"
     ]
    },
    {
     "name": "stdout",
     "output_type": "stream",
     "text": [
      "Scores saved at: /results/scores/mnist_scores.csv\n",
      "Reduced data saved at: /data/mnist/reduced/reduced_X_best.pkl\n"
     ]
    },
    {
     "name": "stderr",
     "output_type": "stream",
     "text": [
      "\n"
     ]
    }
   ],
   "source": [
    "# Apply classifier on reduced data\n",
    "scores_df, reduced_X_best = apply_classifiers_reduced_data(reduced_X, y_train, y_test, 'mnist',\n",
    "                                                           classifiers=['SVC', 'SGD'])"
   ]
  },
  {
   "cell_type": "code",
   "execution_count": 9,
   "metadata": {},
   "outputs": [
    {
     "data": {
      "text/html": [
       "<div>\n",
       "<style scoped>\n",
       "    .dataframe tbody tr th:only-of-type {\n",
       "        vertical-align: middle;\n",
       "    }\n",
       "\n",
       "    .dataframe tbody tr th {\n",
       "        vertical-align: top;\n",
       "    }\n",
       "\n",
       "    .dataframe thead th {\n",
       "        text-align: right;\n",
       "    }\n",
       "</style>\n",
       "<table border=\"1\" class=\"dataframe\">\n",
       "  <thead>\n",
       "    <tr style=\"text-align: right;\">\n",
       "      <th></th>\n",
       "      <th>Model</th>\n",
       "      <th>Score</th>\n",
       "      <th>Params</th>\n",
       "      <th>Dimensions</th>\n",
       "      <th>Dim. Technique</th>\n",
       "      <th>Dim. Params</th>\n",
       "    </tr>\n",
       "  </thead>\n",
       "  <tbody>\n",
       "    <tr>\n",
       "      <th>9</th>\n",
       "      <td>SVC</td>\n",
       "      <td>0.92</td>\n",
       "      <td>{'C': 100, 'gamma': 1, 'kernel': 'rbf'}</td>\n",
       "      <td>100Dim</td>\n",
       "      <td>KPCA</td>\n",
       "      <td>Radial</td>\n",
       "    </tr>\n",
       "    <tr>\n",
       "      <th>8</th>\n",
       "      <td>SVC</td>\n",
       "      <td>0.91</td>\n",
       "      <td>{'C': 10, 'gamma': 0.01, 'kernel': 'rbf'}</td>\n",
       "      <td>100Dim</td>\n",
       "      <td>PCA</td>\n",
       "      <td></td>\n",
       "    </tr>\n",
       "    <tr>\n",
       "      <th>35</th>\n",
       "      <td>SGD</td>\n",
       "      <td>0.90</td>\n",
       "      <td>{'alpha': 0.0001, 'average': False, 'class_wei...</td>\n",
       "      <td>150Dim</td>\n",
       "      <td>LLE</td>\n",
       "      <td>k=24-reg=0.001</td>\n",
       "    </tr>\n",
       "    <tr>\n",
       "      <th>16</th>\n",
       "      <td>SVC</td>\n",
       "      <td>0.88</td>\n",
       "      <td>{'C': 100, 'gamma': 0.001, 'kernel': 'rbf'}</td>\n",
       "      <td>150Dim</td>\n",
       "      <td>LOL</td>\n",
       "      <td></td>\n",
       "    </tr>\n",
       "    <tr>\n",
       "      <th>18</th>\n",
       "      <td>SGD</td>\n",
       "      <td>0.54</td>\n",
       "      <td>{'alpha': 0.0001, 'average': False, 'class_wei...</td>\n",
       "      <td>50Dim</td>\n",
       "      <td>SLMVP</td>\n",
       "      <td>Radial-Gammas=0.01</td>\n",
       "    </tr>\n",
       "  </tbody>\n",
       "</table>\n",
       "</div>"
      ],
      "text/plain": [
       "   Model  Score                                             Params Dimensions  \\\n",
       "9    SVC   0.92            {'C': 100, 'gamma': 1, 'kernel': 'rbf'}     100Dim   \n",
       "8    SVC   0.91          {'C': 10, 'gamma': 0.01, 'kernel': 'rbf'}     100Dim   \n",
       "35   SGD   0.90  {'alpha': 0.0001, 'average': False, 'class_wei...     150Dim   \n",
       "16   SVC   0.88        {'C': 100, 'gamma': 0.001, 'kernel': 'rbf'}     150Dim   \n",
       "18   SGD   0.54  {'alpha': 0.0001, 'average': False, 'class_wei...      50Dim   \n",
       "\n",
       "   Dim. Technique         Dim. Params  \n",
       "9            KPCA              Radial  \n",
       "8             PCA                      \n",
       "35            LLE      k=24-reg=0.001  \n",
       "16            LOL                      \n",
       "18          SLMVP  Radial-Gammas=0.01  "
      ]
     },
     "execution_count": 9,
     "metadata": {},
     "output_type": "execute_result"
    }
   ],
   "source": [
    "scores_df.loc[scores_df.sort_values(\n",
    "        'Score', ascending=False).groupby('Dim. Technique')['Score'].idxmax()].sort_values('Score', ascending=False)"
   ]
  }
 ],
 "metadata": {
  "kernelspec": {
   "display_name": "Python 3",
   "language": "python",
   "name": "python3"
  },
  "language_info": {
   "codemirror_mode": {
    "name": "ipython",
    "version": 3
   },
   "file_extension": ".py",
   "mimetype": "text/x-python",
   "name": "python",
   "nbconvert_exporter": "python",
   "pygments_lexer": "ipython3",
   "version": "3.9.16"
  },
  "orig_nbformat": 4,
  "vscode": {
   "interpreter": {
    "hash": "ac2eaa0ea0ebeafcc7822e65e46aa9d4f966f30b695406963e145ea4a91cd4fc"
   }
  }
 },
 "nbformat": 4,
 "nbformat_minor": 2
}
